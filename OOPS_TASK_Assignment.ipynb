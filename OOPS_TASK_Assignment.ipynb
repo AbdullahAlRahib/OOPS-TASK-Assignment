{
  "nbformat": 4,
  "nbformat_minor": 0,
  "metadata": {
    "colab": {
      "provenance": []
    },
    "kernelspec": {
      "name": "python3",
      "display_name": "Python 3"
    },
    "language_info": {
      "name": "python"
    }
  },
  "cells": [
    {
      "cell_type": "markdown",
      "source": [
        "# **Q1**\n",
        "Create a vehicle class with an init method having instance variables as name_of_vehicle, max_speed\n",
        "and average_of_vehicle."
      ],
      "metadata": {
        "id": "y80qg_Tp6aOr"
      }
    },
    {
      "cell_type": "code",
      "execution_count": 1,
      "metadata": {
        "id": "8qmLXazC5zAj"
      },
      "outputs": [],
      "source": [
        "class vehicle:\n",
        "  def __init__(self, name_of_vehicle, max_speed, average_of_vehicle):\n",
        "    self.name_of_vehicle = name_of_vehicle\n",
        "    self.max_speed = max_speed\n",
        "    self.average_of_vehicle = average_of_vehicle"
      ]
    },
    {
      "cell_type": "markdown",
      "source": [
        "# **Q2**\n",
        "Create a child class car from the vehicle class created in Que 1, which will inherit the vehicle class.\n",
        "Create a method named seating_capacity which takes capacity as an argument and returns the name of\n",
        "the vehicle and its seating capacity."
      ],
      "metadata": {
        "id": "MONzOzRr6mYx"
      }
    },
    {
      "cell_type": "code",
      "source": [
        "class car(vehicle):\n",
        "\n",
        "  def seating_capacity(self,capacity):\n",
        "    self.capacity = capacity\n",
        "    return f\"The {self.name_of_vehicle} has a seating capacity of {capacity} people.\""
      ],
      "metadata": {
        "id": "zkJ5vYZR6jJz"
      },
      "execution_count": 6,
      "outputs": []
    },
    {
      "cell_type": "code",
      "source": [
        "obj=car(\"BMW\",250,15)"
      ],
      "metadata": {
        "id": "uyFCc-SW6les"
      },
      "execution_count": 7,
      "outputs": []
    },
    {
      "cell_type": "code",
      "source": [
        "obj.seating_capacity(7)"
      ],
      "metadata": {
        "colab": {
          "base_uri": "https://localhost:8080/",
          "height": 36
        },
        "id": "UDACezYF8-Rp",
        "outputId": "21051b9e-0f2e-43c0-d0e1-8d78f2d135fd"
      },
      "execution_count": 8,
      "outputs": [
        {
          "output_type": "execute_result",
          "data": {
            "text/plain": [
              "'The BMW has a seating capacity of 7 people.'"
            ],
            "application/vnd.google.colaboratory.intrinsic+json": {
              "type": "string"
            }
          },
          "metadata": {},
          "execution_count": 8
        }
      ]
    },
    {
      "cell_type": "markdown",
      "source": [
        "# **Q3**\n",
        "**What is multiple inheritance? Write a python code to demonstrate multiple inheritance.**\n",
        "\n",
        "Answer:\n",
        "\n",
        "Multiple inheritance is a feature in object-oriented programming languages that allows a class to inherit attributes and methods from more than one parent class. In multiple inheritance, a derived class can inherit from multiple base classes, thereby incorporating their functionalities and characteristics."
      ],
      "metadata": {
        "id": "A3ClCzn09RYz"
      }
    },
    {
      "cell_type": "code",
      "source": [
        "class Vehicle:\n",
        "    def __init__(self, name):\n",
        "        self.name = name\n",
        "\n",
        "    def display_name(self):\n",
        "        print(f\"Vehicle Name: {self.name}\")\n",
        "\n",
        "\n",
        "class Engine:\n",
        "    def engine_Quality(self):\n",
        "        print(\"Engine Condition Good\")\n",
        "\n",
        "\n",
        "class Car(Vehicle, Engine):\n",
        "    def __init__(self, name, color):\n",
        "        Vehicle.__init__(self, name)\n",
        "        self.color = color\n",
        "\n",
        "    def display_color(self):\n",
        "        print(f\"Car Color: {self.color}\")"
      ],
      "metadata": {
        "id": "d-JFRmc39Quy"
      },
      "execution_count": 9,
      "outputs": []
    },
    {
      "cell_type": "markdown",
      "source": [
        "# **Q4**\n",
        "\n",
        "**What are getter and setter in python? Create a class and create a getter and a setter method in this\n",
        "class.**\n",
        "\n",
        "**Answer :**\n",
        "\n",
        "Getters are methods that retrieve the value of an attribute, providing read-only access to it. They are typically prefixed with the word \"get\" and have the attribute name as part of their method name.\n",
        "\n",
        "Setters, on the other hand, are methods that set the value of an attribute, providing write-only or read-write access to it. They are typically prefixed with the word \"set\" and have the attribute name as part of their method name."
      ],
      "metadata": {
        "id": "dYh5rWh6-lLw"
      }
    },
    {
      "cell_type": "code",
      "source": [
        "class Person:\n",
        "    def __init__(self):\n",
        "        self._name = \"\"\n",
        "\n",
        "    def get_name(self):\n",
        "        return self._name\n",
        "\n",
        "    def set_name(self, name):\n",
        "        self._name = name"
      ],
      "metadata": {
        "id": "fj8VOqLt-ksw"
      },
      "execution_count": 10,
      "outputs": []
    },
    {
      "cell_type": "code",
      "source": [
        "obj = Person()"
      ],
      "metadata": {
        "id": "3PAS0nqn_RQK"
      },
      "execution_count": 11,
      "outputs": []
    },
    {
      "cell_type": "code",
      "source": [
        "obj.set_name(\"Rahib\")"
      ],
      "metadata": {
        "id": "rc3dwtKF_U6y"
      },
      "execution_count": 12,
      "outputs": []
    },
    {
      "cell_type": "code",
      "source": [
        "obj.get_name()"
      ],
      "metadata": {
        "colab": {
          "base_uri": "https://localhost:8080/",
          "height": 36
        },
        "id": "Ow47v819_ZYm",
        "outputId": "a3182247-2ee4-4780-e439-2d3673c09d1e"
      },
      "execution_count": 14,
      "outputs": [
        {
          "output_type": "execute_result",
          "data": {
            "text/plain": [
              "'Rahib'"
            ],
            "application/vnd.google.colaboratory.intrinsic+json": {
              "type": "string"
            }
          },
          "metadata": {},
          "execution_count": 14
        }
      ]
    },
    {
      "cell_type": "markdown",
      "source": [
        "# **Q5**\n",
        "\n",
        "**What is method overriding in python? Write a python code to demonstrate method overriding.**\n",
        "\n",
        "**Answer:**\n",
        "\n",
        "Method overriding in Python is a feature of object-oriented programming where a subclass provides its own implementation of a method that is already defined in its parent class. The overridden method in the subclass has the same name and the same parameters as the method in the parent class, but it provides a different implementation.\n"
      ],
      "metadata": {
        "id": "WwVEKR_A_pGK"
      }
    },
    {
      "cell_type": "code",
      "source": [
        "class Vehicle:\n",
        "    def display_info(self):\n",
        "        print(\"This is a vehicle.\")\n",
        "\n",
        "class Car(Vehicle):\n",
        "    def display_info(self):\n",
        "        print(\"This is a car.\")\n",
        "\n",
        "class Bicycle(Vehicle):\n",
        "    def display_info(self):\n",
        "        print(\"This is a bicycle.\")"
      ],
      "metadata": {
        "id": "UO5Nn2mW_eUx"
      },
      "execution_count": 15,
      "outputs": []
    }
  ]
}